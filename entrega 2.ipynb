{
  "cells": [
    {
      "cell_type": "markdown",
      "metadata": {
        "id": "EXscYOQeXKOS"
      },
      "source": [
        "## Definición del problema a analizar\n"
      ]
    },
    {
      "cell_type": "markdown",
      "metadata": {
        "id": "JrBNy8IEXsuv"
      },
      "source": [
        "Vamos a analizar de qué manera afectó en el rendimiento de los alumnos vivir en una comuna distinta a la del establecimiento educacional en cada región del país, considerando que vivir en una comuna distinta puede significar mayor tiempo de transporte, más gastos, más cansancio, entre otras en el período del 2018.\n",
        "\n",
        "Para esto, usaremos datos abiertos provenientes del Centro de Estudios Mineduc. El plan es seleccionar los datos que nos sirven, limpiarlos, separar cada región de Chile y separar aquellos alumnos que viven en la misma comuna que su establecimiento educacional de los que viven en otra. Finalmente, se verá si el promedio de las notas finales de cada grupo varía.\n"
      ]
    },
    {
      "cell_type": "markdown",
      "metadata": {
        "id": "VOA7p3EllAcH"
      },
      "source": [
        "Es importante contestar la pregunta planteada porque, en el caso de que sí se viera alguna correlación, sería una variable que los padres podrían considerar al momento de matricular a sus hijos en el establecimiento educativo."
      ]
    },
    {
      "cell_type": "code",
      "execution_count": 1,
      "metadata": {
        "id": "FqoevcxXW4M_"
      },
      "outputs": [],
      "source": [
        "import numpy as np\n",
        "import pandas as pd\n",
        "import matplotlib.pyplot as plt"
      ]
    },
    {
      "cell_type": "code",
      "execution_count": 2,
      "metadata": {},
      "outputs": [
        {
          "name": "stderr",
          "output_type": "stream",
          "text": [
            "\"gdown\" no se reconoce como un comando interno o externo,\n",
            "programa o archivo por lotes ejecutable.\n"
          ]
        }
      ],
      "source": [
        "# Usar en Google Colab\n",
        "!gdown --id 158221k62KoEclVDGdlqfiqcmvCxIMZlm"
      ]
    },
    {
      "cell_type": "code",
      "execution_count": 3,
      "metadata": {
        "colab": {
          "base_uri": "https://localhost:8080/",
          "height": 432
        },
        "id": "mR9_AI5ioFUC",
        "outputId": "b0b22a90-be8d-4aa4-8ecb-9a1b819944fb"
      },
      "outputs": [
        {
          "name": "stderr",
          "output_type": "stream",
          "text": [
            "C:\\Users\\danie\\AppData\\Roaming\\Python\\Python39\\site-packages\\IPython\\core\\interactiveshell.py:3441: DtypeWarning: Columns (25) have mixed types.Specify dtype option on import or set low_memory=False.\n",
            "  exec(code_obj, self.user_global_ns, self.user_ns)\n"
          ]
        },
        {
          "data": {
            "text/html": [
              "<div>\n",
              "<style scoped>\n",
              "    .dataframe tbody tr th:only-of-type {\n",
              "        vertical-align: middle;\n",
              "    }\n",
              "\n",
              "    .dataframe tbody tr th {\n",
              "        vertical-align: top;\n",
              "    }\n",
              "\n",
              "    .dataframe thead th {\n",
              "        text-align: right;\n",
              "    }\n",
              "</style>\n",
              "<table border=\"1\" class=\"dataframe\">\n",
              "  <thead>\n",
              "    <tr style=\"text-align: right;\">\n",
              "      <th></th>\n",
              "      <th>AGNO</th>\n",
              "      <th>RBD</th>\n",
              "      <th>DGV_RBD</th>\n",
              "      <th>NOM_RBD</th>\n",
              "      <th>COD_REG_RBD</th>\n",
              "      <th>NOM_REG_RBD_A</th>\n",
              "      <th>COD_PRO_RBD</th>\n",
              "      <th>COD_COM_RBD</th>\n",
              "      <th>NOM_COM_RBD</th>\n",
              "      <th>COD_DEPROV_RBD</th>\n",
              "      <th>...</th>\n",
              "      <th>COD_REG_ALU</th>\n",
              "      <th>COD_COM_ALU</th>\n",
              "      <th>NOM_COM_ALU</th>\n",
              "      <th>COD_RAMA</th>\n",
              "      <th>COD_SEC</th>\n",
              "      <th>COD_ESPE</th>\n",
              "      <th>PROM_GRAL</th>\n",
              "      <th>ASISTENCIA</th>\n",
              "      <th>SIT_FIN</th>\n",
              "      <th>SIT_FIN_R</th>\n",
              "    </tr>\n",
              "  </thead>\n",
              "  <tbody>\n",
              "    <tr>\n",
              "      <th>0</th>\n",
              "      <td>2018</td>\n",
              "      <td>1</td>\n",
              "      <td>9</td>\n",
              "      <td>LICEO POLITECNICO ARICA</td>\n",
              "      <td>15</td>\n",
              "      <td>AYP</td>\n",
              "      <td>151</td>\n",
              "      <td>15101</td>\n",
              "      <td>ARICA</td>\n",
              "      <td>151</td>\n",
              "      <td>...</td>\n",
              "      <td>15</td>\n",
              "      <td>15101</td>\n",
              "      <td>ARICA</td>\n",
              "      <td>400</td>\n",
              "      <td>410</td>\n",
              "      <td>41001</td>\n",
              "      <td>0</td>\n",
              "      <td>0</td>\n",
              "      <td>Y</td>\n",
              "      <td>T</td>\n",
              "    </tr>\n",
              "    <tr>\n",
              "      <th>1</th>\n",
              "      <td>2018</td>\n",
              "      <td>1</td>\n",
              "      <td>9</td>\n",
              "      <td>LICEO POLITECNICO ARICA</td>\n",
              "      <td>15</td>\n",
              "      <td>AYP</td>\n",
              "      <td>151</td>\n",
              "      <td>15101</td>\n",
              "      <td>ARICA</td>\n",
              "      <td>151</td>\n",
              "      <td>...</td>\n",
              "      <td>15</td>\n",
              "      <td>15101</td>\n",
              "      <td>ARICA</td>\n",
              "      <td>400</td>\n",
              "      <td>410</td>\n",
              "      <td>41001</td>\n",
              "      <td>0</td>\n",
              "      <td>0</td>\n",
              "      <td>Y</td>\n",
              "      <td>Y</td>\n",
              "    </tr>\n",
              "    <tr>\n",
              "      <th>2</th>\n",
              "      <td>2018</td>\n",
              "      <td>1</td>\n",
              "      <td>9</td>\n",
              "      <td>LICEO POLITECNICO ARICA</td>\n",
              "      <td>15</td>\n",
              "      <td>AYP</td>\n",
              "      <td>151</td>\n",
              "      <td>15101</td>\n",
              "      <td>ARICA</td>\n",
              "      <td>151</td>\n",
              "      <td>...</td>\n",
              "      <td>15</td>\n",
              "      <td>15101</td>\n",
              "      <td>ARICA</td>\n",
              "      <td>400</td>\n",
              "      <td>410</td>\n",
              "      <td>41001</td>\n",
              "      <td>0</td>\n",
              "      <td>0</td>\n",
              "      <td>Y</td>\n",
              "      <td>T</td>\n",
              "    </tr>\n",
              "    <tr>\n",
              "      <th>3</th>\n",
              "      <td>2018</td>\n",
              "      <td>1</td>\n",
              "      <td>9</td>\n",
              "      <td>LICEO POLITECNICO ARICA</td>\n",
              "      <td>15</td>\n",
              "      <td>AYP</td>\n",
              "      <td>151</td>\n",
              "      <td>15101</td>\n",
              "      <td>ARICA</td>\n",
              "      <td>151</td>\n",
              "      <td>...</td>\n",
              "      <td>15</td>\n",
              "      <td>15101</td>\n",
              "      <td>ARICA</td>\n",
              "      <td>400</td>\n",
              "      <td>410</td>\n",
              "      <td>41001</td>\n",
              "      <td>6,4</td>\n",
              "      <td>95</td>\n",
              "      <td>P</td>\n",
              "      <td>P</td>\n",
              "    </tr>\n",
              "    <tr>\n",
              "      <th>4</th>\n",
              "      <td>2018</td>\n",
              "      <td>1</td>\n",
              "      <td>9</td>\n",
              "      <td>LICEO POLITECNICO ARICA</td>\n",
              "      <td>15</td>\n",
              "      <td>AYP</td>\n",
              "      <td>151</td>\n",
              "      <td>15101</td>\n",
              "      <td>ARICA</td>\n",
              "      <td>151</td>\n",
              "      <td>...</td>\n",
              "      <td>15</td>\n",
              "      <td>15101</td>\n",
              "      <td>ARICA</td>\n",
              "      <td>400</td>\n",
              "      <td>410</td>\n",
              "      <td>41001</td>\n",
              "      <td>0</td>\n",
              "      <td>0</td>\n",
              "      <td>Y</td>\n",
              "      <td>Y</td>\n",
              "    </tr>\n",
              "  </tbody>\n",
              "</table>\n",
              "<p>5 rows × 36 columns</p>\n",
              "</div>"
            ],
            "text/plain": [
              "   AGNO  RBD  DGV_RBD                  NOM_RBD  COD_REG_RBD NOM_REG_RBD_A  \\\n",
              "0  2018    1        9  LICEO POLITECNICO ARICA           15           AYP   \n",
              "1  2018    1        9  LICEO POLITECNICO ARICA           15           AYP   \n",
              "2  2018    1        9  LICEO POLITECNICO ARICA           15           AYP   \n",
              "3  2018    1        9  LICEO POLITECNICO ARICA           15           AYP   \n",
              "4  2018    1        9  LICEO POLITECNICO ARICA           15           AYP   \n",
              "\n",
              "   COD_PRO_RBD  COD_COM_RBD NOM_COM_RBD  COD_DEPROV_RBD  ... COD_REG_ALU  \\\n",
              "0          151        15101       ARICA             151  ...          15   \n",
              "1          151        15101       ARICA             151  ...          15   \n",
              "2          151        15101       ARICA             151  ...          15   \n",
              "3          151        15101       ARICA             151  ...          15   \n",
              "4          151        15101       ARICA             151  ...          15   \n",
              "\n",
              "   COD_COM_ALU  NOM_COM_ALU  COD_RAMA  COD_SEC  COD_ESPE  PROM_GRAL  \\\n",
              "0        15101        ARICA       400      410     41001          0   \n",
              "1        15101        ARICA       400      410     41001          0   \n",
              "2        15101        ARICA       400      410     41001          0   \n",
              "3        15101        ARICA       400      410     41001        6,4   \n",
              "4        15101        ARICA       400      410     41001          0   \n",
              "\n",
              "   ASISTENCIA SIT_FIN  SIT_FIN_R  \n",
              "0           0       Y          T  \n",
              "1           0       Y          Y  \n",
              "2           0       Y          T  \n",
              "3          95       P          P  \n",
              "4           0       Y          Y  \n",
              "\n",
              "[5 rows x 36 columns]"
            ]
          },
          "execution_count": 3,
          "metadata": {},
          "output_type": "execute_result"
        }
      ],
      "source": [
        "data = pd.read_csv('rendimiento_2018.csv', delimiter = ';')\n",
        "data.head()"
      ]
    },
    {
      "cell_type": "code",
      "execution_count": 4,
      "metadata": {
        "colab": {
          "base_uri": "https://localhost:8080/",
          "height": 421
        },
        "id": "9FNaLGbismCk",
        "outputId": "d63f5db1-0a92-4875-f8c7-f21482a626f6"
      },
      "outputs": [
        {
          "data": {
            "text/html": [
              "<div>\n",
              "<style scoped>\n",
              "    .dataframe tbody tr th:only-of-type {\n",
              "        vertical-align: middle;\n",
              "    }\n",
              "\n",
              "    .dataframe tbody tr th {\n",
              "        vertical-align: top;\n",
              "    }\n",
              "\n",
              "    .dataframe thead th {\n",
              "        text-align: right;\n",
              "    }\n",
              "</style>\n",
              "<table border=\"1\" class=\"dataframe\">\n",
              "  <thead>\n",
              "    <tr style=\"text-align: right;\">\n",
              "      <th></th>\n",
              "      <th>RBD</th>\n",
              "      <th>COD_REG_RBD</th>\n",
              "      <th>COD_COM_RBD</th>\n",
              "      <th>COD_JOR</th>\n",
              "      <th>MRUN</th>\n",
              "      <th>COD_REG_ALU</th>\n",
              "      <th>COD_COM_ALU</th>\n",
              "      <th>PROM_GRAL</th>\n",
              "      <th>ASISTENCIA</th>\n",
              "    </tr>\n",
              "  </thead>\n",
              "  <tbody>\n",
              "    <tr>\n",
              "      <th>0</th>\n",
              "      <td>1</td>\n",
              "      <td>15</td>\n",
              "      <td>15101</td>\n",
              "      <td>4</td>\n",
              "      <td>710054</td>\n",
              "      <td>15</td>\n",
              "      <td>15101</td>\n",
              "      <td>0</td>\n",
              "      <td>0</td>\n",
              "    </tr>\n",
              "    <tr>\n",
              "      <th>1</th>\n",
              "      <td>1</td>\n",
              "      <td>15</td>\n",
              "      <td>15101</td>\n",
              "      <td>4</td>\n",
              "      <td>4895728</td>\n",
              "      <td>15</td>\n",
              "      <td>15101</td>\n",
              "      <td>0</td>\n",
              "      <td>0</td>\n",
              "    </tr>\n",
              "    <tr>\n",
              "      <th>2</th>\n",
              "      <td>1</td>\n",
              "      <td>15</td>\n",
              "      <td>15101</td>\n",
              "      <td>4</td>\n",
              "      <td>7519082</td>\n",
              "      <td>15</td>\n",
              "      <td>15101</td>\n",
              "      <td>0</td>\n",
              "      <td>0</td>\n",
              "    </tr>\n",
              "    <tr>\n",
              "      <th>3</th>\n",
              "      <td>1</td>\n",
              "      <td>15</td>\n",
              "      <td>15101</td>\n",
              "      <td>4</td>\n",
              "      <td>7752592</td>\n",
              "      <td>15</td>\n",
              "      <td>15101</td>\n",
              "      <td>6,4</td>\n",
              "      <td>95</td>\n",
              "    </tr>\n",
              "    <tr>\n",
              "      <th>4</th>\n",
              "      <td>1</td>\n",
              "      <td>15</td>\n",
              "      <td>15101</td>\n",
              "      <td>4</td>\n",
              "      <td>8445111</td>\n",
              "      <td>15</td>\n",
              "      <td>15101</td>\n",
              "      <td>0</td>\n",
              "      <td>0</td>\n",
              "    </tr>\n",
              "    <tr>\n",
              "      <th>...</th>\n",
              "      <td>...</td>\n",
              "      <td>...</td>\n",
              "      <td>...</td>\n",
              "      <td>...</td>\n",
              "      <td>...</td>\n",
              "      <td>...</td>\n",
              "      <td>...</td>\n",
              "      <td>...</td>\n",
              "      <td>...</td>\n",
              "    </tr>\n",
              "    <tr>\n",
              "      <th>3293745</th>\n",
              "      <td>41063</td>\n",
              "      <td>15</td>\n",
              "      <td>15101</td>\n",
              "      <td>2</td>\n",
              "      <td>6322965</td>\n",
              "      <td>15</td>\n",
              "      <td>15101</td>\n",
              "      <td>6,3</td>\n",
              "      <td>100</td>\n",
              "    </tr>\n",
              "    <tr>\n",
              "      <th>3293746</th>\n",
              "      <td>41063</td>\n",
              "      <td>15</td>\n",
              "      <td>15101</td>\n",
              "      <td>2</td>\n",
              "      <td>7947648</td>\n",
              "      <td>15</td>\n",
              "      <td>15101</td>\n",
              "      <td>6,1</td>\n",
              "      <td>100</td>\n",
              "    </tr>\n",
              "    <tr>\n",
              "      <th>3293747</th>\n",
              "      <td>41063</td>\n",
              "      <td>15</td>\n",
              "      <td>15101</td>\n",
              "      <td>2</td>\n",
              "      <td>13843936</td>\n",
              "      <td>15</td>\n",
              "      <td>15101</td>\n",
              "      <td>6,3</td>\n",
              "      <td>100</td>\n",
              "    </tr>\n",
              "    <tr>\n",
              "      <th>3293748</th>\n",
              "      <td>41063</td>\n",
              "      <td>15</td>\n",
              "      <td>15101</td>\n",
              "      <td>2</td>\n",
              "      <td>22987600</td>\n",
              "      <td>15</td>\n",
              "      <td>15101</td>\n",
              "      <td>5,9</td>\n",
              "      <td>100</td>\n",
              "    </tr>\n",
              "    <tr>\n",
              "      <th>3293749</th>\n",
              "      <td>41063</td>\n",
              "      <td>15</td>\n",
              "      <td>15101</td>\n",
              "      <td>2</td>\n",
              "      <td>1862766</td>\n",
              "      <td>3</td>\n",
              "      <td>3301</td>\n",
              "      <td>5,4</td>\n",
              "      <td>100</td>\n",
              "    </tr>\n",
              "  </tbody>\n",
              "</table>\n",
              "<p>3293750 rows × 9 columns</p>\n",
              "</div>"
            ],
            "text/plain": [
              "           RBD  COD_REG_RBD  COD_COM_RBD  COD_JOR      MRUN  COD_REG_ALU  \\\n",
              "0            1           15        15101        4    710054           15   \n",
              "1            1           15        15101        4   4895728           15   \n",
              "2            1           15        15101        4   7519082           15   \n",
              "3            1           15        15101        4   7752592           15   \n",
              "4            1           15        15101        4   8445111           15   \n",
              "...        ...          ...          ...      ...       ...          ...   \n",
              "3293745  41063           15        15101        2   6322965           15   \n",
              "3293746  41063           15        15101        2   7947648           15   \n",
              "3293747  41063           15        15101        2  13843936           15   \n",
              "3293748  41063           15        15101        2  22987600           15   \n",
              "3293749  41063           15        15101        2   1862766            3   \n",
              "\n",
              "         COD_COM_ALU PROM_GRAL  ASISTENCIA  \n",
              "0              15101         0           0  \n",
              "1              15101         0           0  \n",
              "2              15101         0           0  \n",
              "3              15101       6,4          95  \n",
              "4              15101         0           0  \n",
              "...              ...       ...         ...  \n",
              "3293745        15101       6,3         100  \n",
              "3293746        15101       6,1         100  \n",
              "3293747        15101       6,3         100  \n",
              "3293748        15101       5,9         100  \n",
              "3293749         3301       5,4         100  \n",
              "\n",
              "[3293750 rows x 9 columns]"
            ]
          },
          "execution_count": 4,
          "metadata": {},
          "output_type": "execute_result"
        }
      ],
      "source": [
        "important_columns = data[['RBD', 'COD_REG_RBD', 'COD_COM_RBD', 'COD_JOR', 'MRUN', 'COD_REG_ALU', 'COD_COM_ALU', 'PROM_GRAL', 'ASISTENCIA']]\n",
        "important_columns"
      ]
    },
    {
      "cell_type": "code",
      "execution_count": 5,
      "metadata": {
        "colab": {
          "base_uri": "https://localhost:8080/",
          "height": 421
        },
        "id": "cwwint4qt2aO",
        "outputId": "68f3c195-f590-49de-e69e-af208fb48003"
      },
      "outputs": [
        {
          "data": {
            "text/html": [
              "<div>\n",
              "<style scoped>\n",
              "    .dataframe tbody tr th:only-of-type {\n",
              "        vertical-align: middle;\n",
              "    }\n",
              "\n",
              "    .dataframe tbody tr th {\n",
              "        vertical-align: top;\n",
              "    }\n",
              "\n",
              "    .dataframe thead th {\n",
              "        text-align: right;\n",
              "    }\n",
              "</style>\n",
              "<table border=\"1\" class=\"dataframe\">\n",
              "  <thead>\n",
              "    <tr style=\"text-align: right;\">\n",
              "      <th></th>\n",
              "      <th>RBD</th>\n",
              "      <th>COD_REG_RBD</th>\n",
              "      <th>COD_COM_RBD</th>\n",
              "      <th>COD_JOR</th>\n",
              "      <th>MRUN</th>\n",
              "      <th>COD_REG_ALU</th>\n",
              "      <th>COD_COM_ALU</th>\n",
              "      <th>PROM_GRAL</th>\n",
              "      <th>ASISTENCIA</th>\n",
              "    </tr>\n",
              "  </thead>\n",
              "  <tbody>\n",
              "    <tr>\n",
              "      <th>3</th>\n",
              "      <td>1</td>\n",
              "      <td>15</td>\n",
              "      <td>15101</td>\n",
              "      <td>4</td>\n",
              "      <td>7752592</td>\n",
              "      <td>15</td>\n",
              "      <td>15101</td>\n",
              "      <td>6,4</td>\n",
              "      <td>95</td>\n",
              "    </tr>\n",
              "    <tr>\n",
              "      <th>8</th>\n",
              "      <td>1</td>\n",
              "      <td>15</td>\n",
              "      <td>15101</td>\n",
              "      <td>4</td>\n",
              "      <td>15856013</td>\n",
              "      <td>15</td>\n",
              "      <td>15101</td>\n",
              "      <td>5,3</td>\n",
              "      <td>90</td>\n",
              "    </tr>\n",
              "    <tr>\n",
              "      <th>15</th>\n",
              "      <td>1</td>\n",
              "      <td>15</td>\n",
              "      <td>15101</td>\n",
              "      <td>4</td>\n",
              "      <td>6103241</td>\n",
              "      <td>15</td>\n",
              "      <td>15101</td>\n",
              "      <td>6,4</td>\n",
              "      <td>97</td>\n",
              "    </tr>\n",
              "    <tr>\n",
              "      <th>16</th>\n",
              "      <td>1</td>\n",
              "      <td>15</td>\n",
              "      <td>15101</td>\n",
              "      <td>4</td>\n",
              "      <td>7828101</td>\n",
              "      <td>15</td>\n",
              "      <td>15101</td>\n",
              "      <td>6</td>\n",
              "      <td>94</td>\n",
              "    </tr>\n",
              "    <tr>\n",
              "      <th>17</th>\n",
              "      <td>1</td>\n",
              "      <td>15</td>\n",
              "      <td>15101</td>\n",
              "      <td>4</td>\n",
              "      <td>10645226</td>\n",
              "      <td>15</td>\n",
              "      <td>15101</td>\n",
              "      <td>5,8</td>\n",
              "      <td>90</td>\n",
              "    </tr>\n",
              "    <tr>\n",
              "      <th>...</th>\n",
              "      <td>...</td>\n",
              "      <td>...</td>\n",
              "      <td>...</td>\n",
              "      <td>...</td>\n",
              "      <td>...</td>\n",
              "      <td>...</td>\n",
              "      <td>...</td>\n",
              "      <td>...</td>\n",
              "      <td>...</td>\n",
              "    </tr>\n",
              "    <tr>\n",
              "      <th>3293745</th>\n",
              "      <td>41063</td>\n",
              "      <td>15</td>\n",
              "      <td>15101</td>\n",
              "      <td>2</td>\n",
              "      <td>6322965</td>\n",
              "      <td>15</td>\n",
              "      <td>15101</td>\n",
              "      <td>6,3</td>\n",
              "      <td>100</td>\n",
              "    </tr>\n",
              "    <tr>\n",
              "      <th>3293746</th>\n",
              "      <td>41063</td>\n",
              "      <td>15</td>\n",
              "      <td>15101</td>\n",
              "      <td>2</td>\n",
              "      <td>7947648</td>\n",
              "      <td>15</td>\n",
              "      <td>15101</td>\n",
              "      <td>6,1</td>\n",
              "      <td>100</td>\n",
              "    </tr>\n",
              "    <tr>\n",
              "      <th>3293747</th>\n",
              "      <td>41063</td>\n",
              "      <td>15</td>\n",
              "      <td>15101</td>\n",
              "      <td>2</td>\n",
              "      <td>13843936</td>\n",
              "      <td>15</td>\n",
              "      <td>15101</td>\n",
              "      <td>6,3</td>\n",
              "      <td>100</td>\n",
              "    </tr>\n",
              "    <tr>\n",
              "      <th>3293748</th>\n",
              "      <td>41063</td>\n",
              "      <td>15</td>\n",
              "      <td>15101</td>\n",
              "      <td>2</td>\n",
              "      <td>22987600</td>\n",
              "      <td>15</td>\n",
              "      <td>15101</td>\n",
              "      <td>5,9</td>\n",
              "      <td>100</td>\n",
              "    </tr>\n",
              "    <tr>\n",
              "      <th>3293749</th>\n",
              "      <td>41063</td>\n",
              "      <td>15</td>\n",
              "      <td>15101</td>\n",
              "      <td>2</td>\n",
              "      <td>1862766</td>\n",
              "      <td>3</td>\n",
              "      <td>3301</td>\n",
              "      <td>5,4</td>\n",
              "      <td>100</td>\n",
              "    </tr>\n",
              "  </tbody>\n",
              "</table>\n",
              "<p>2998634 rows × 9 columns</p>\n",
              "</div>"
            ],
            "text/plain": [
              "           RBD  COD_REG_RBD  COD_COM_RBD  COD_JOR      MRUN  COD_REG_ALU  \\\n",
              "3            1           15        15101        4   7752592           15   \n",
              "8            1           15        15101        4  15856013           15   \n",
              "15           1           15        15101        4   6103241           15   \n",
              "16           1           15        15101        4   7828101           15   \n",
              "17           1           15        15101        4  10645226           15   \n",
              "...        ...          ...          ...      ...       ...          ...   \n",
              "3293745  41063           15        15101        2   6322965           15   \n",
              "3293746  41063           15        15101        2   7947648           15   \n",
              "3293747  41063           15        15101        2  13843936           15   \n",
              "3293748  41063           15        15101        2  22987600           15   \n",
              "3293749  41063           15        15101        2   1862766            3   \n",
              "\n",
              "         COD_COM_ALU PROM_GRAL  ASISTENCIA  \n",
              "3              15101       6,4          95  \n",
              "8              15101       5,3          90  \n",
              "15             15101       6,4          97  \n",
              "16             15101         6          94  \n",
              "17             15101       5,8          90  \n",
              "...              ...       ...         ...  \n",
              "3293745        15101       6,3         100  \n",
              "3293746        15101       6,1         100  \n",
              "3293747        15101       6,3         100  \n",
              "3293748        15101       5,9         100  \n",
              "3293749         3301       5,4         100  \n",
              "\n",
              "[2998634 rows x 9 columns]"
            ]
          },
          "execution_count": 5,
          "metadata": {},
          "output_type": "execute_result"
        }
      ],
      "source": [
        "important_columns = important_columns.drop(important_columns[important_columns['PROM_GRAL'] == \"0\"].index)\n",
        "important_columns.dropna()\n",
        "important_columns.duplicated().value_counts()\n",
        "important_columns"
      ]
    },
    {
      "cell_type": "code",
      "execution_count": 6,
      "metadata": {
        "id": "55lzWuIRd5dT"
      },
      "outputs": [
        {
          "name": "stderr",
          "output_type": "stream",
          "text": [
            "C:\\Users\\danie\\AppData\\Local\\Temp/ipykernel_2576/3552812257.py:1: DeprecationWarning: `np.float` is a deprecated alias for the builtin `float`. To silence this warning, use `float` by itself. Doing this will not modify any behavior and is safe. If you specifically wanted the numpy scalar type, use `np.float64` here.\n",
            "Deprecated in NumPy 1.20; for more details and guidance: https://numpy.org/devdocs/release/1.20.0-notes.html#deprecations\n",
            "  important_columns['PROM_GRAL'] = important_columns['PROM_GRAL'].apply(lambda x: x.replace(\",\", \".\")).astype(np.float)\n"
          ]
        }
      ],
      "source": [
        "important_columns['PROM_GRAL'] = important_columns['PROM_GRAL'].apply(lambda x: x.replace(\",\", \".\")).astype(np.float)"
      ]
    },
    {
      "cell_type": "code",
      "execution_count": 7,
      "metadata": {},
      "outputs": [],
      "source": [
        "regions_df = {f'reg_{i}': important_columns[important_columns['COD_REG_RBD'] == i] for i in range(1, 17)}"
      ]
    },
    {
      "cell_type": "code",
      "execution_count": 8,
      "metadata": {},
      "outputs": [],
      "source": [
        "grades_in = {\n",
        "    f'reg_{i}': regions_df[f'reg_{i}']['PROM_GRAL'][\n",
        "        regions_df[f'reg_{i}']['COD_COM_ALU'] == regions_df[f'reg_{i}']['COD_COM_RBD']\n",
        "    ]\n",
        "    for i in range(1, 17)\n",
        "}\n",
        "grades_out = {\n",
        "    f'reg_{i}': regions_df[f'reg_{i}']['PROM_GRAL'][\n",
        "        regions_df[f'reg_{i}']['COD_COM_ALU'] != regions_df[f'reg_{i}']['COD_COM_RBD']\n",
        "    ]\n",
        "    for i in range(1, 17)\n",
        "}"
      ]
    },
    {
      "cell_type": "code",
      "execution_count": 9,
      "metadata": {},
      "outputs": [
        {
          "data": {
            "text/plain": [
              "36         6.4\n",
              "47         5.2\n",
              "70         5.2\n",
              "72         4.9\n",
              "94         5.1\n",
              "          ... \n",
              "3287448    6.1\n",
              "3287462    5.0\n",
              "3287500    6.1\n",
              "3293744    6.2\n",
              "3293749    5.4\n",
              "Name: PROM_GRAL, Length: 4046, dtype: float64"
            ]
          },
          "execution_count": 9,
          "metadata": {},
          "output_type": "execute_result"
        }
      ],
      "source": [
        "grades_out['reg_15']"
      ]
    },
    {
      "cell_type": "code",
      "execution_count": 10,
      "metadata": {},
      "outputs": [],
      "source": [
        "arr_in = np.array([grades_in[f'reg_{i}'].mean() for i in range(1, 17)])\n",
        "arr_out = np.array([grades_out[f'reg_{i}'].mean() for i in range(1, 17)])"
      ]
    },
    {
      "cell_type": "code",
      "execution_count": 11,
      "metadata": {
        "colab": {
          "base_uri": "https://localhost:8080/",
          "height": 893
        },
        "id": "PT30ViH1lb0q",
        "outputId": "b97b4f71-0f92-485d-e037-6bc0d1d5058d"
      },
      "outputs": [
        {
          "data": {
            "image/png": "[encoded data removed]",
            "text/plain": [
              "<Figure size 1296x1080 with 1 Axes>"
            ]
          },
          "metadata": {
            "needs_background": "light"
          },
          "output_type": "display_data"
        }
      ],
      "source": [
        "serie_1 = arr_in\n",
        "serie_2 = arr_out\n",
        " \n",
        "n_groups = len(arr_in)\n",
        "bars_index = np.arange(n_groups)\n",
        "bar_width = 0.35\n",
        "\n",
        "f, ax = plt.subplots(figsize=(18,15))\n",
        "\n",
        "plt.bar(bars_index, serie_1, width=bar_width, label='Alumnos que viven en la misma comuna')\n",
        "plt.bar(bars_index + bar_width, serie_2, width=bar_width, label='Alumnos que viven en otra comuna')\n",
        "plt.legend(loc='best')\n",
        "## Se colocan los indicadores en el eje x\n",
        "plt.xticks(bars_index + bar_width, (f'{i}' for i in range(1, 17)))\n",
        " \n",
        "plt.ylabel('Promedio')\n",
        "plt.xlabel('Regiones')\n",
        "plt.title('Promedio alumnos por regiones')\n",
        " \n",
        "plt.show()"
      ]
    },
    {
      "cell_type": "markdown",
      "metadata": {},
      "source": [
        "Efectivamente se puede notar que hay una diferencia en el rendimiento de los estudiantes según si viven fuera de la comuna del colegio vs si viven en la misma comuna, donde la diferencia favorece al segundo grupo. Sin embargo es muy pequeña, entonces, ¿Qué factores afectan?"
      ]
    },
    {
      "cell_type": "markdown",
      "metadata": {
        "id": "hgm4afCkxPjx"
      },
      "source": [
        "### ¿Cuántas entidades hay? ¿Cuantos features? \n"
      ]
    },
    {
      "cell_type": "code",
      "execution_count": 12,
      "metadata": {},
      "outputs": [
        {
          "data": {
            "text/plain": [
              "(3293750, 36)"
            ]
          },
          "execution_count": 12,
          "metadata": {},
          "output_type": "execute_result"
        }
      ],
      "source": [
        "data.shape"
      ]
    },
    {
      "cell_type": "code",
      "execution_count": 13,
      "metadata": {},
      "outputs": [
        {
          "data": {
            "text/plain": [
              "(2998634, 9)"
            ]
          },
          "execution_count": 13,
          "metadata": {},
          "output_type": "execute_result"
        }
      ],
      "source": [
        "important_columns.shape"
      ]
    },
    {
      "cell_type": "markdown",
      "metadata": {},
      "source": [
        "El set de datos completo tiene 36 características y 3293750 entidades. Luego de filtrar y reducir el set de datos, terminamos con 9 features y 2998634 entidades. Solamente se usan tres de las features en el análisis preliminar."
      ]
    },
    {
      "cell_type": "markdown",
      "metadata": {},
      "source": [
        "### ¿Son estos features independientes entre si?"
      ]
    },
    {
      "cell_type": "code",
      "execution_count": 14,
      "metadata": {},
      "outputs": [
        {
          "data": {
            "text/plain": [
              "Index(['RBD', 'COD_REG_RBD', 'COD_COM_RBD', 'COD_JOR', 'MRUN', 'COD_REG_ALU',\n",
              "       'COD_COM_ALU', 'PROM_GRAL', 'ASISTENCIA'],\n",
              "      dtype='object')"
            ]
          },
          "execution_count": 14,
          "metadata": {},
          "output_type": "execute_result"
        }
      ],
      "source": [
        "important_columns.columns"
      ]
    },
    {
      "cell_type": "markdown",
      "metadata": {},
      "source": [
        "De las 9 columnas a las cuales se redujo el set de datos, solamente se usaron tres para el análisis: ```COD_COM_RBD```, ```COD_COM_ALU``` y ```PROM_GRAL```, donde la primera corresponde al código de la comuna en la cual se encuentra el colegio, la segunda corresponde al código de la comuna en la cual reside el alumno y la tercer corresponde al promedio general del alumno. Por simple inspección, se puede determinar que las dos primeras columnas tienen una cierta dependencia, dado que un estudiante no puede estudiar en un colegio cuya ubicación esté demasiado lejos de su hogar. Por otra parte, dado el análisis realizado en este informe, se puede concluir que la relación entre las comunas de residencia y de estudio tiene cierta correlación con el promedio general de los estudiantes, donde los estudiantes que viven en la misma comuna del colegio en que estudian tienden a tener mejores notas."
      ]
    },
    {
      "cell_type": "markdown",
      "metadata": {},
      "source": []
    },
    {
      "cell_type": "markdown",
      "metadata": {},
      "source": [
        "### ¿Por qué este primer análisis era el adecuado para mi proyecto?"
      ]
    },
    {
      "cell_type": "markdown",
      "metadata": {},
      "source": [
        "Este primer análisis, si bien es el más evidente de realizar, muestra que existe una correlación entre el rendimiento de cada estudiante (medido según el promedio general) y la comuna de residencia con respecto a la comuna del lugar de estudios. De esta manera, este análisis es adecuado para el proyecto porque sienta las bases para el desarrollo de este a futuro."
      ]
    },
    {
      "cell_type": "markdown",
      "metadata": {},
      "source": [
        "### ¿Qué limitaciones tiene mi análisis?¿Cómo se podría mejorar?\n"
      ]
    },
    {
      "cell_type": "markdown",
      "metadata": {},
      "source": [
        "El análisis es muy simple y lo trabaja con solo dos datos: relación comuna de residencia - comuna de estudio, y promedio general. De esta manera, estamos obviando muchos factores posibles, como por ejemplo la distancia geográfica entre la residencia y el colegio, los tipos de transporte empleados por cada estudiante, factores familiares, edad de los estudiantes, etc. Se puede mejorar el análisis, relacionando más factores y estudiando la influencia de cada uno dentro de este análisis. De esta manera, se puede estudiar cada región por separado, con tal de observar en más detalle el fenómeno estudiado. Es de esperar que la región metropolitana tenga mayor traslado intercomunal de estudiantes a sus colegios que otras regiones, dada la mayor cantidad de comunas conectadas en una sola red de transporte. Sería interesante comprobar esta hipótesis y ver los detalles de la influencia de esto en el rendimiento de los estudiantes."
      ]
    },
    {
      "cell_type": "markdown",
      "metadata": {},
      "source": [
        "### ¿Necesito más datos para mi proyecto?"
      ]
    },
    {
      "cell_type": "markdown",
      "metadata": {},
      "source": [
        "No necesariamente. Sin embargo, este análisis inicial está muy aislado por lo que se puede enriquecer la investigación, comparando con otros años. Por ejemplo, el año 2020, en el cual la mayor parte de la educación se realizó de manera remota, lo que puede haber afectado positiva o negativemente al rendimiento de los estudiantes. También entrarían otros factores, que pueden empujar los resultados en uno u otro sentido."
      ]
    },
    {
      "cell_type": "markdown",
      "metadata": {},
      "source": [
        "### ¿Necesito más análisis para mi proyecto?"
      ]
    },
    {
      "cell_type": "markdown",
      "metadata": {},
      "source": [
        "Sí. Este análisis es muy preliminar y sienta las bases, mediante una pregunta muy simple, de un análisis sociológico de la educación escolar en Chile que puede llegar a niveles muy complejos de estudio. De esta manera, queda claro que hay que seguir profundizando en los distintos factores que pueden afectar a la conclusión de la pregunta planteada y aprovechar el proceso para realizar otras preguntas acerca de la eduación escolar en Chile que aborden asuntos más complejos."
      ]
    }
  ],
  "metadata": {
    "colab": {
      "collapsed_sections": [],
      "name": "grupo11.ipynb",
      "provenance": []
    },
    "interpreter": {
      "hash": "9518128f597d7b00dc14729602cfd87fb7b2cf75925976bcb0d0e328a830a12b"
    },
    "kernelspec": {
      "display_name": "Python 3.9.1 64-bit",
      "name": "python3"
    },
    "language_info": {
      "codemirror_mode": {
        "name": "ipython",
        "version": 3
      },
      "file_extension": ".py",
      "mimetype": "text/x-python",
      "name": "python",
      "nbconvert_exporter": "python",
      "pygments_lexer": "ipython3",
      "version": "3.9.1"
    }
  },
  "nbformat": 4,
  "nbformat_minor": 0
}
